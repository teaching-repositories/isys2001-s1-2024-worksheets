{
  "nbformat": 4,
  "nbformat_minor": 0,
  "metadata": {
    "colab": {
      "name": "visualise_twitter.ipynb",
      "provenance": [],
      "authorship_tag": "ABX9TyMacn8cVdIJvmweJ6ZQ76nA",
      "include_colab_link": true
    },
    "kernelspec": {
      "name": "python3",
      "display_name": "Python 3"
    },
    "language_info": {
      "name": "python"
    }
  },
  "cells": [
    {
      "cell_type": "markdown",
      "metadata": {
        "id": "view-in-github",
        "colab_type": "text"
      },
      "source": [
        "<a href=\"https://colab.research.google.com/github/teaching-repositories/isys2001-worksheets/blob/main/visualise_twitter.ipynb\" target=\"_parent\"><img src=\"https://colab.research.google.com/assets/colab-badge.svg\" alt=\"Open In Colab\"/></a>"
      ]
    },
    {
      "cell_type": "markdown",
      "source": [
        "# Twitter Tweet Analysis\n",
        "\n",
        "## Workflow\n",
        "1. Install Packages\n",
        "2. Get data\n",
        "3. Inspect and (optiopnally) clean the data\n",
        "4. Formalise questions to answer\n",
        "3. Visually perform analysis, in our case sentintment analysis\n",
        "  * plot number of positive, negative, neutral tweets each day\n",
        "  * plot the proportion of postive, negative, neutral tweets\n",
        "  * create a word cloud from the tweets\n",
        "\n",
        "## 1. Install packges\n",
        "\n",
        "Although this step is being executed first it the notbook, a lot of earlier research into the problem was done to identify the packages needed."
      ],
      "metadata": {
        "id": "EWa2fB2i1Iyr"
      }
    },
    {
      "cell_type": "code",
      "execution_count": null,
      "metadata": {
        "id": "j_e5_pMax8mJ"
      },
      "outputs": [],
      "source": [
        "from google.colab import output\n",
        "!curl -Ol https://raw.githubusercontent.com/teaching-repositories/isys2001-worksheets/main/stopwords.py\n",
        "!pip install TextBlob\n",
        "output.clear()\n",
        "print(\"Required packages installed\")"
      ]
    },
    {
      "cell_type": "markdown",
      "source": [
        "## 2. Get and Clean the Data"
      ],
      "metadata": {
        "id": "38nXBOpvznzx"
      }
    },
    {
      "cell_type": "code",
      "source": [
        "!curl -Ol https://raw.githubusercontent.com/teaching-repositories/isys2001-worksheets/main/trump_tweets.csv"
      ],
      "metadata": {
        "id": "8Ci1KJKLyOYb"
      },
      "execution_count": null,
      "outputs": []
    },
    {
      "cell_type": "code",
      "source": [
        "import re\n",
        "\n",
        "def clean(text):\n",
        "  ''' Uses regular expresison to extract english letter and digits from the supplied text. '''\n",
        "  regExp = \"(@[A-Za-z0-9]+)|([^0-9A-Za-z \\t])|(\\w+:\\/\\/\\S+)\"\n",
        "  return ' '.join(re.sub(regExp, \" \", text).split())\n",
        "\n"
      ],
      "metadata": {
        "id": "pyQoQEEczkVi"
      },
      "execution_count": null,
      "outputs": []
    },
    {
      "cell_type": "markdown",
      "source": [
        "Lets have a look at the first few rows"
      ],
      "metadata": {
        "id": "9wSh9Lk686lo"
      }
    },
    {
      "cell_type": "code",
      "source": [
        "import pandas as pd\n",
        "\n",
        "tweets_df = pd.read_csv('trump_tweets.csv')\n",
        "tweets_df['Clean Text'] = tweets_df['text'].apply(clean)\n",
        "tweets_df.head()"
      ],
      "metadata": {
        "id": "0HM6Kw1VJaL3"
      },
      "execution_count": null,
      "outputs": []
    },
    {
      "cell_type": "markdown",
      "source": [
        "## 3. Perform Sentiment Analysis\n",
        "The sentiment function of textblob returns two properties, polarity, and subjectivity.\n",
        "\n",
        "See: https://textblob.readthedocs.io/en/dev/index.html\n",
        "\n",
        "\n",
        "### Polarity\n",
        "Polarity is float which lies in the range of [-1,1] where 1 means positive statement and -1 means a negative statement.\n",
        "\n",
        "### Subjectivity\n",
        "Subjective sentences generally refer to personal opinion, emotion or judgment whereas objective refers to factual information. Subjectivity is also a float which lies in the range of [0,1]."
      ],
      "metadata": {
        "id": "ytj7LAbe1bXc"
      }
    },
    {
      "cell_type": "code",
      "source": [
        "from textblob import TextBlob\n",
        "\n",
        "# Wrapper so can use Pandas apply() function on a column\n",
        "def getSubjectivity(text):\n",
        "    return TextBlob(str(text)).sentiment.subjectivity\n",
        "\n",
        "def getPolarity(text):\n",
        "    return TextBlob(str(text)).sentiment.polarity\n",
        "\n",
        "# Calculate sentiment,\n",
        "tweets_df['Subjectivity'] = tweets_df['Clean Text'].apply(getSubjectivity)\n",
        "tweets_df['Polarity'] = tweets_df['Clean Text'].apply(getPolarity)\n",
        "\n",
        "tweets_df.head()"
      ],
      "metadata": {
        "id": "BPHPewQs0LWY"
      },
      "execution_count": null,
      "outputs": []
    },
    {
      "cell_type": "code",
      "source": [
        "# Do a box plot of columns Subjectivity and Polarity\n"
      ],
      "metadata": {
        "id": "xL95PK6A0mCe"
      },
      "execution_count": null,
      "outputs": []
    },
    {
      "cell_type": "markdown",
      "source": [
        "# Sentiment over time.\n",
        "\n",
        "From the documentaiton, the values of polsrity can be interpreted a sentiment.  So we can *calculate* the sentiment of each tweet as either positive, negative or neutral.\n",
        "\n",
        "> There are more precise ways, keeping it simple for thie exercise.\n",
        "\n",
        "It could be interesting to plot these over time.  SO each day there is a number of tweets, what proportions are positive, negative or neutral.\n",
        "\n",
        "First let us add a sentiment column\n"
      ],
      "metadata": {
        "id": "oEbWCyrZ5ly9"
      }
    },
    {
      "cell_type": "code",
      "source": [
        "def sentiment(polarity):\n",
        "  if polarity > 0:\n",
        "      return 'positive'\n",
        "  elif polarity == 0:\n",
        "      return 'neutral'\n",
        "  else:\n",
        "      return 'negative'"
      ],
      "metadata": {
        "id": "ENP5Hyrt4YYq"
      },
      "execution_count": null,
      "outputs": []
    },
    {
      "cell_type": "code",
      "source": [
        "# Add sentiment column\n",
        "tweets_df['Sentiment'] ="
      ],
      "metadata": {
        "id": "rmv5RBkp467P"
      },
      "execution_count": null,
      "outputs": []
    },
    {
      "cell_type": "code",
      "source": [
        "# Lets get just the positive tweets\n",
        "pos = tweets_df["
      ],
      "metadata": {
        "id": "SK62Dy3L6u3G"
      },
      "execution_count": null,
      "outputs": []
    },
    {
      "cell_type": "markdown",
      "source": [
        "Write a function to calculate how many each day.  We will write a function because want to do this for negative and netural tweets."
      ],
      "metadata": {
        "id": "AL_2i4jB7cy-"
      }
    },
    {
      "cell_type": "code",
      "source": [
        "def num_tweets(df):\n",
        "    return df['Date'].value_counts().sort_index()\n",
        "\n",
        "pos_per_day = num_tweets(pos)"
      ],
      "metadata": {
        "id": "WK6y5w0w7Fu1"
      },
      "execution_count": null,
      "outputs": []
    },
    {
      "cell_type": "code",
      "source": [
        "# Plot the positive tweets per day\n",
        "pos_per_day.plot()"
      ],
      "metadata": {
        "id": "olPfp_uW9c7k"
      },
      "execution_count": null,
      "outputs": []
    },
    {
      "cell_type": "code",
      "source": [
        "# Now repeat for negative"
      ],
      "metadata": {
        "id": "0iBemDHJ-gjO"
      },
      "execution_count": null,
      "outputs": []
    },
    {
      "cell_type": "code",
      "source": [
        "# repeat for neutral"
      ],
      "metadata": {
        "id": "BfRQFkSa_j_c"
      },
      "execution_count": null,
      "outputs": []
    },
    {
      "cell_type": "markdown",
      "source": [
        "How about propotions of sentiment type?\n",
        "\n",
        "Visit Python Graph Gallery, 'Part of the Whole', select 'Pie' and loot at the example"
      ],
      "metadata": {
        "id": "4bztLqHFCWTM"
      }
    },
    {
      "cell_type": "code",
      "source": [
        "import matplotlib.pyplot as plt\n",
        "values =\n",
        "plt.pie(values)"
      ],
      "metadata": {
        "id": "51tsIf80F3JG"
      },
      "execution_count": null,
      "outputs": []
    },
    {
      "cell_type": "markdown",
      "source": [
        "We can do better."
      ],
      "metadata": {
        "id": "tcG6FBvfGTLR"
      }
    },
    {
      "cell_type": "code",
      "source": [
        "import matplotlib.pyplot as plt\n",
        "\n",
        "values =\n",
        "labels =\n",
        "colors =\n",
        "plt.pie(values, colors=colors, labels= values)\n",
        "plt.title('Sentiment Portions')\n",
        "plt.legend(labels,loc=3)\n",
        "plt.show()"
      ],
      "metadata": {
        "id": "ikSynD1LBiNC"
      },
      "execution_count": null,
      "outputs": []
    },
    {
      "cell_type": "markdown",
      "source": [
        "## WordCloud\n",
        "\n",
        "Visit Python Graph Gallery, 'Ranking', select 'Word Cloud' and loot at the example"
      ],
      "metadata": {
        "id": "hieSQIkEKHGG"
      }
    },
    {
      "cell_type": "code",
      "source": [
        "# Libraries\n",
        "from wordcloud import WordCloud\n",
        "import matplotlib.pyplot as plt\n",
        "from stopwords import ENGLISH_STOP_WORDS\n",
        "\n",
        "# Get all the messages\n",
        "messages = ' '.join(tweets_df['Clean Text'])\n",
        "\n",
        "stop_words = ENGLISH_STOP_WORDS.add(search_term)\n",
        "# Create the wordcloud object\n",
        "wordcloud = WordCloud(width=680, height=480, margin=0,\n",
        "                      stopwords=ENGLISH_STOP_WORDS).generate(messages)\n",
        "\n",
        "# Display the generated image:\n",
        "plt.imshow(wordcloud, interpolation='bilinear')\n",
        "plt.axis(\"off\")\n",
        "plt.margins(x=0, y=0)\n",
        "plt.show()"
      ],
      "metadata": {
        "id": "d3kZ8i4hH_IQ"
      },
      "execution_count": null,
      "outputs": []
    }
  ]
}