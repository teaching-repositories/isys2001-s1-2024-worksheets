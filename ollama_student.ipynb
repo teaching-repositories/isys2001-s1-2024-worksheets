{
  "nbformat": 4,
  "nbformat_minor": 0,
  "metadata": {
    "colab": {
      "private_outputs": true,
      "provenance": [],
      "gpuType": "T4",
      "authorship_tag": "ABX9TyM8S8vBSoWosXWX3SI3C1s9",
      "include_colab_link": true
    },
    "kernelspec": {
      "name": "python3",
      "display_name": "Python 3"
    },
    "language_info": {
      "name": "python"
    },
    "accelerator": "GPU"
  },
  "cells": [
    {
      "cell_type": "markdown",
      "metadata": {
        "id": "view-in-github",
        "colab_type": "text"
      },
      "source": [
        "<a href=\"https://colab.research.google.com/github/teaching-repositories/isys2001-worksheets/blob/main/ollama_student.ipynb\" target=\"_parent\"><img src=\"https://colab.research.google.com/assets/colab-badge.svg\" alt=\"Open In Colab\"/></a>"
      ]
    },
    {
      "cell_type": "code",
      "source": [
        "#@title Setup Environment\n",
        "\n",
        "# Install Ollama on Computer\n",
        "!curl -fsSL https://ollama.com/install.sh | sh\n",
        "\n",
        "# Run ollama server using nohup and redirect output to a log file\n",
        "!nohup ollama serve >ollama.log 2>&1 &\n",
        "\n",
        "# Install Python interface to ollama\n",
        "!pip install ollama -q\n",
        "\n",
        "# Download one LLM model\n",
        "!ollama pull tinyllama\n",
        "\n",
        "\n",
        "# ---------- NICE TO HAVE NOT CRITICAL ----------\n",
        "# The following are 'nice to have' and\n",
        "\n",
        "# Make text in output cell wrap.\n",
        "from IPython.display import HTML, display\n",
        "\n",
        "def set_css():\n",
        "  display(HTML('''\n",
        "  <style>\n",
        "    pre {\n",
        "        white-space: pre-wrap;\n",
        "    }\n",
        "  </style>\n",
        "  '''))\n",
        "get_ipython().events.register('pre_run_cell', set_css)\n",
        "\n",
        "# If we get this far then everything is install and setup\n",
        "# So lets clear the output\n",
        "from google.colab import output\n",
        "output.clear()\n",
        "print(\"Required packages installed. Ollama running, model downloaded\")"
      ],
      "metadata": {
        "cellView": "form",
        "id": "fTq-YgkZsgAK"
      },
      "execution_count": null,
      "outputs": []
    },
    {
      "cell_type": "markdown",
      "source": [
        "Minimal example from [Python & JavaScript Libraries](https://ollama.com/blog/python-javascript-libraries)"
      ],
      "metadata": {
        "id": "R0CSLBf12GdM"
      }
    },
    {
      "cell_type": "code",
      "source": [],
      "metadata": {
        "id": "8Iw9HhC2ozue"
      },
      "execution_count": null,
      "outputs": []
    },
    {
      "cell_type": "markdown",
      "source": [
        "Lets\n",
        "\n",
        "* wrap that in a function to reuse\n",
        "* prompt the user for the input"
      ],
      "metadata": {
        "id": "WfykZwkp2U46"
      }
    },
    {
      "cell_type": "code",
      "source": [],
      "metadata": {
        "id": "ODCvIxEqo9im"
      },
      "execution_count": null,
      "outputs": []
    },
    {
      "cell_type": "markdown",
      "source": [
        "Put it all in a loop, and we have a simple chatbot!"
      ],
      "metadata": {
        "id": "BOVE5jWl2aP_"
      }
    },
    {
      "cell_type": "code",
      "source": [],
      "metadata": {
        "id": "A7D_fAOmuQJ_"
      },
      "execution_count": null,
      "outputs": []
    }
  ]
}